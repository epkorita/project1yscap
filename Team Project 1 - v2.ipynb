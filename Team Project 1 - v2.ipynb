{
 "cells": [
  {
   "cell_type": "code",
   "execution_count": null,
   "metadata": {
    "nbpresent": {
     "id": "4449d42c-21d5-49b9-af27-184a3e3bf1f4"
    }
   },
   "outputs": [],
   "source": [
    "# dependencies\n",
    "import os\n",
    "from tqdm import tqdm\n",
    "import datetime\n",
    "import dateutil\n",
    "import requests\n",
    "import pandas as pd\n",
    "import numpy as np\n",
    "import matplotlib.pyplot as plt\n",
    "from pprint import pprint\n",
    "from vaderSentiment.vaderSentiment import SentimentIntensityAnalyzer\n",
    "\n",
    "# import APIs\n",
    "from Keys.NYTAPI import nyt_api\n",
    "from Keys.NewsAPI import news_api\n",
    "from Keys.AlphaAPI import alpha_api"
   ]
  },
  {
   "cell_type": "code",
   "execution_count": null,
   "metadata": {
    "nbpresent": {
     "id": "7452ebac-f331-4b77-8a11-23dc7e42bcc7"
    }
   },
   "outputs": [],
   "source": [
    "%matplotlib notebook"
   ]
  },
  {
   "cell_type": "markdown",
   "metadata": {
    "nbpresent": {
     "id": "73444a3f-8c76-4d5d-a6d6-7205277f6a4a"
    }
   },
   "source": [
    "# Stock Data"
   ]
  },
  {
   "cell_type": "code",
   "execution_count": null,
   "metadata": {
    "nbpresent": {
     "id": "95096a3c-28c4-4d34-ada2-0a9bc6f09542"
    }
   },
   "outputs": [],
   "source": [
    "nas = \"NDAQ\"\n",
    "dow = \"DJI\"\n",
    "sap = \"SPX\"\n",
    "\n",
    "sap_base_url = \"https://www.alphavantage.co/query?function=TIME_SERIES_DAILY&symbol=\"+sap+\"&apikey=\"+alpha_api\n",
    "nas_base_url = \"https://www.alphavantage.co/query?function=TIME_SERIES_DAILY&symbol=\"+nas+\"&apikey=\"+alpha_api\n",
    "dow_base_url = \"https://www.alphavantage.co/query?function=TIME_SERIES_DAILY&symbol=\"+dow+\"&apikey=\"+alpha_api"
   ]
  },
  {
   "cell_type": "code",
   "execution_count": null,
   "metadata": {
    "nbpresent": {
     "id": "61b1b3d7-b15d-47d7-abee-c8cdf0cbfde8"
    }
   },
   "outputs": [],
   "source": [
    "sap_data = requests.get(sap_base_url).json()\n",
    "nas_data = requests.get(nas_base_url).json()\n",
    "dow_data = requests.get(dow_base_url).json()"
   ]
  },
  {
   "cell_type": "code",
   "execution_count": null,
   "metadata": {
    "nbpresent": {
     "id": "e93d91a1-0791-4abd-8694-7f8a82299e74"
    }
   },
   "outputs": [],
   "source": [
    "# set dates\n",
    "stock_dates = []\n",
    "\n",
    "# decide the start date\n",
    "start_date = datetime.date(2018,7,1)\n",
    "\n",
    "for i in range(60):\n",
    "    stock_date = start_date + datetime.timedelta(i)\n",
    "    stock_dates.append(stock_date.isoformat())"
   ]
  },
  {
   "cell_type": "code",
   "execution_count": null,
   "metadata": {
    "nbpresent": {
     "id": "5e738271-d4c1-45ee-b513-ad1dc9405629"
    }
   },
   "outputs": [],
   "source": [
    "sap_close_prices = []\n",
    "nas_close_prices = []\n",
    "dow_close_prices = []\n",
    "sap_volumes = []\n",
    "nas_volumes = []\n",
    "dow_volumes = []\n",
    "sap_dates_output = []\n",
    "nas_dates_output = []\n",
    "dow_dates_output = []\n",
    "for stock_date in tqdm(stock_dates):\n",
    "    # There are holidays and weekends\n",
    "    try:\n",
    "        sap_close_prices.append(sap_data[\"Time Series (Daily)\"][stock_date][\"4. close\"])\n",
    "        nas_close_prices.append(nas_data[\"Time Series (Daily)\"][stock_date][\"4. close\"])\n",
    "        dow_close_prices.append(dow_data[\"Time Series (Daily)\"][stock_date][\"4. close\"])\n",
    "        \n",
    "        sap_volumes.append(sap_data[\"Time Series (Daily)\"][stock_date][\"5. volume\"])\n",
    "        nas_volumes.append(nas_data[\"Time Series (Daily)\"][stock_date][\"5. volume\"])\n",
    "        dow_volumes.append(dow_data[\"Time Series (Daily)\"][stock_date][\"5. volume\"])\n",
    "        \n",
    "        if stock_date in sap_data[\"Time Series (Daily)\"].keys():\n",
    "            sap_dates_output.append(stock_date)\n",
    "        if stock_date in nas_data[\"Time Series (Daily)\"].keys():\n",
    "            nas_dates_output.append(stock_date)\n",
    "        if stock_date in dow_data[\"Time Series (Daily)\"].keys():\n",
    "            dow_dates_output.append(stock_date)\n",
    "    except:\n",
    "        pass"
   ]
  },
  {
   "cell_type": "code",
   "execution_count": null,
   "metadata": {
    "nbpresent": {
     "id": "8c3ce2af-fa7d-4e2b-80a5-9dc0cd273bb1"
    }
   },
   "outputs": [],
   "source": [
    "sap_df = pd.DataFrame({\"Date\": sap_dates_output, \"S&P Close Price\": pd.to_numeric(sap_close_prices), \"S&P Volume\": pd.to_numeric(sap_volumes)})\n",
    "nas_df = pd.DataFrame({\"Date\": nas_dates_output, \"NAS Close Price\": pd.to_numeric(nas_close_prices), \"NAS Volume\": pd.to_numeric(nas_volumes)})\n",
    "dow_df = pd.DataFrame({\"Date\": dow_dates_output, \"DOW Close Price\": pd.to_numeric(dow_close_prices), \"DOW Volume\": pd.to_numeric(dow_volumes)})\n",
    "sap_df[\"S&P Volume\"] = sap_df[\"S&P Volume\"].map(\"{:,}\".format)\n",
    "nas_df[\"NAS Volume\"] = nas_df[\"NAS Volume\"].map(\"{:,}\".format)\n",
    "dow_df[\"DOW Volume\"] = dow_df[\"DOW Volume\"].map(\"{:,}\".format)\n",
    "\n",
    "print(sap_df.dtypes)\n",
    "nas_df\n"
   ]
  },
  {
   "cell_type": "markdown",
   "metadata": {
    "nbpresent": {
     "id": "b45da7a9-21f2-43a3-905e-56f097af14e9"
    }
   },
   "source": [
    "# New York Times"
   ]
  },
  {
   "cell_type": "code",
   "execution_count": null,
   "metadata": {},
   "outputs": [],
   "source": [
    "# build a function that transfer the ISO formatted string back to datetime\n",
    "def getDataTimeFromISO(iso):\n",
    "    d = dateutil.parser.parse(iso)\n",
    "    return d"
   ]
  },
  {
   "cell_type": "code",
   "execution_count": null,
   "metadata": {},
   "outputs": [],
   "source": [
    "getDataTimeFromISO(dates_output[0])"
   ]
  },
  {
   "cell_type": "code",
   "execution_count": null,
   "metadata": {},
   "outputs": [],
   "source": [
    "# define the day_lag variable. -1 means the news yesterday may determines the price today.\n",
    "day_lag = -1\n",
    "bd = getDataTimeFromISO(dates_output[0]).date()+datetime.timedelta(day_lag)\n",
    "ed = getDataTimeFromISO(dates_output[-1]).date()+datetime.timedelta(day_lag)"
   ]
  },
  {
   "cell_type": "code",
   "execution_count": null,
   "metadata": {
    "nbpresent": {
     "id": "21b7e7c7-8f47-4fd9-9464-255b117d5ac2"
    }
   },
   "outputs": [],
   "source": [
    "bd = bd.isoformat()\n",
    "ed = ed.isoformat()"
   ]
  },
  {
   "cell_type": "code",
   "execution_count": null,
   "metadata": {
    "nbpresent": {
     "id": "8784529d-2093-44d4-9bbc-b586f78d754a"
    }
   },
   "outputs": [],
   "source": [
    "begin_date = bd[:4] + bd[5:7] + bd[8:10]\n",
    "end_date = ed[:4] + ed[5:7] + ed[8:10]\n",
    "print(begin_date, end_date)"
   ]
  },
  {
   "cell_type": "code",
   "execution_count": null,
   "metadata": {
    "nbpresent": {
     "id": "fe19293b-bfca-42bf-a283-f6de4bc87c22"
    },
    "scrolled": true
   },
   "outputs": [],
   "source": [
    "# prepare variables\n",
    "# make sure we can loop through all the articles we get\n",
    "n = 200\n",
    "pages = range(n)\n",
    "snippet = []\n",
    "pub_date = []\n",
    "\n",
    "# urls\n",
    "nyt_base_url = \"https://api.nytimes.com/svc/search/v2/articlesearch.json?\"\n",
    "\n",
    "# get data from urls\n",
    "for page in tqdm(pages):\n",
    "    params = {\n",
    "        \"api-key\": nyt_api,\n",
    "        \"q\": \"Stock\",\n",
    "        \"begin_date\": begin_date,\n",
    "        \"end_date\": end_date,\n",
    "        \"sort\": \"newest\",\n",
    "        \"fl\": [\"snippet\",\"pub_date\"],\n",
    "        \"page\": page\n",
    "    }\n",
    "\n",
    "    try: \n",
    "        nyt_data = requests.get(nyt_base_url, params=params).json()\n",
    "        # loop through 10 articles on each page\n",
    "        for i in range(10):\n",
    "            snippet.append(nyt_data[\"response\"][\"docs\"][i][\"snippet\"])\n",
    "            interm_date = nyt_data[\"response\"][\"docs\"][i][\"pub_date\"]\n",
    "            pub_date.append(interm_date[:4]+interm_date[5:7]+interm_date[8:10])\n",
    "        \n",
    "    except:\n",
    "        pass"
   ]
  },
  {
   "cell_type": "markdown",
   "metadata": {},
   "source": [
    "# WSJ"
   ]
  },
  {
   "cell_type": "code",
   "execution_count": null,
   "metadata": {},
   "outputs": [],
   "source": [
    "# url\n",
    "news_base_url = \"https://newsapi.org/v2/everything\"\n",
    "wsj_source = \"the-wall-street-journal\"\n",
    "wsj_topic = \"stock\"\n",
    "wsj_description = []\n",
    "wsj_pub_date = []\n",
    "\n",
    "# News API free version limits the requests to 1,000 per day\n",
    "wsj_pages = range(20)\n",
    "\n",
    "for page in tqdm(wsj_pages):\n",
    "        wsj_params = {\n",
    "            \"q\": wsj_topic,\n",
    "            \"sources\": wsj_source,\n",
    "            \"apiKey\": news_api,\n",
    "            \"from\": bd,\n",
    "            \"to\": ed,\n",
    "            \"pageSize\": 100,\n",
    "            \"page\": page\n",
    "        }\n",
    "        \n",
    "        try:\n",
    "            wsj_data = requests.get(news_base_url, params=wsj_params).json()\n",
    "            # loop through each article on each page\n",
    "            for i in range(20):\n",
    "                wsj_description.append(wsj_data[\"articles\"][i][\"description\"])\n",
    "                wsj_pub_date.append(wsj_data[\"articles\"][i][\"publishedAt\"][:10])\n",
    "        except:\n",
    "            pass"
   ]
  },
  {
   "cell_type": "markdown",
   "metadata": {},
   "source": [
    "# Fox"
   ]
  },
  {
   "cell_type": "code",
   "execution_count": null,
   "metadata": {},
   "outputs": [],
   "source": [
    "# url\n",
    "news_base_url = \"https://newsapi.org/v2/everything\"\n",
    "fox_source = \"fox-news\"\n",
    "fox_topic = \"stock\"\n",
    "fox_description = []\n",
    "fox_pub_date = []\n",
    "\n",
    "# News API free version limits the requests to 1,000 per day\n",
    "fox_pages = range(20)\n",
    "\n",
    "for page in tqdm(fox_pages):\n",
    "        fox_params = {\n",
    "            \"q\": fox_topic,\n",
    "            \"sources\": fox_source,\n",
    "            \"apiKey\": news_api,\n",
    "            \"from\": bd,\n",
    "            \"to\": ed,\n",
    "            \"pageSize\": 100,\n",
    "            \"page\": page\n",
    "        }\n",
    "        \n",
    "        try:\n",
    "            fox_data = requests.get(news_base_url, params=fox_params).json()\n",
    "            # loop through each article on each page\n",
    "            for i in range(20):\n",
    "                fox_description.append(fox_data[\"articles\"][i][\"description\"])\n",
    "                fox_pub_date.append(fox_data[\"articles\"][i][\"publishedAt\"][:10])\n",
    "        except:\n",
    "            pass"
   ]
  },
  {
   "cell_type": "markdown",
   "metadata": {
    "nbpresent": {
     "id": "9785a933-4b9d-4168-9c24-92444309dab9"
    }
   },
   "source": [
    "# Vader Sentiment Score"
   ]
  },
  {
   "cell_type": "code",
   "execution_count": null,
   "metadata": {
    "nbpresent": {
     "id": "87a00b1b-c509-42e1-8f9a-3c52243fd515"
    }
   },
   "outputs": [],
   "source": [
    "# define a function to recycle the code\n",
    "def vaderSentimentScoreCalculator(sentences):\n",
    "    analyzer = SentimentIntensityAnalyzer()\n",
    "    vader_scores = []\n",
    "    for sentence in sentences:\n",
    "        vs = analyzer.polarity_scores(sentence)\n",
    "        vader_scores.append(vs['compound'])\n",
    "    return vader_scores"
   ]
  },
  {
   "cell_type": "code",
   "execution_count": null,
   "metadata": {},
   "outputs": [],
   "source": [
    "nyt_vaderscores = vaderSentimentScoreCalculator(snippet)\n",
    "wsj_vadersocres = vaderSentimentScoreCalculator(wsj_description)\n",
    "fox_vaderscores = vaderSentimentScoreCalculator(fox_description)"
   ]
  },
  {
   "cell_type": "markdown",
   "metadata": {
    "nbpresent": {
     "id": "1cdfb901-2ae5-4077-b618-1c8a08fda3c0"
    }
   },
   "source": [
    "# Establish DataFrame - This section needs rework"
   ]
  },
  {
   "cell_type": "code",
   "execution_count": null,
   "metadata": {
    "nbpresent": {
     "id": "ea068a35-c7c7-43be-9f8d-2dc5c148acaa"
    }
   },
   "outputs": [],
   "source": [
    "news_dates = []\n",
    "\n",
    "# add the day_lag back in order to merge\n",
    "\n",
    "for d in pub_date:\n",
    "    d = getDataTimeFromISO(d).date() - datetime.timedelta(day_lag)\n",
    "    d = d.isoformat()\n",
    "    news_dates.append(d)\n",
    "\n",
    "news_df = pd.DataFrame({\"Date\": news_dates, \"VaderScore (Day_Lag=\"+str(day_lag)+\")\": vader_scores})"
   ]
  },
  {
   "cell_type": "code",
   "execution_count": null,
   "metadata": {
    "nbpresent": {
     "id": "529cd77e-7892-4077-a774-fd46a58013da"
    }
   },
   "outputs": [],
   "source": [
    "news_df"
   ]
  },
  {
   "cell_type": "code",
   "execution_count": null,
   "metadata": {
    "nbpresent": {
     "id": "58d65993-1c2a-43b8-ae55-954b6680a21a"
    }
   },
   "outputs": [],
   "source": [
    "grouped_news_df = news_df.groupby(\"Date\")\n",
    "adjusted_news_df = pd.DataFrame({\n",
    "    \"Date\": grouped_news_df.count().index,\n",
    "    \"VaderScore (Day_Lag=\"+str(day_lag)+\")\": grouped_news_df[\"VaderScore (Day_Lag=\"+str(day_lag)+\")\"].mean()\n",
    "})"
   ]
  },
  {
   "cell_type": "code",
   "execution_count": null,
   "metadata": {
    "nbpresent": {
     "id": "c5a3ed48-e9c3-4c9c-b622-62bff7e42676"
    },
    "scrolled": true
   },
   "outputs": [],
   "source": [
    "adjusted_news_df.dtypes"
   ]
  },
  {
   "cell_type": "code",
   "execution_count": null,
   "metadata": {
    "nbpresent": {
     "id": "11cb034e-1fb3-4cd9-ac74-c8aab5c6fddf"
    }
   },
   "outputs": [],
   "source": [
    "stock_df.dtypes"
   ]
  },
  {
   "cell_type": "code",
   "execution_count": null,
   "metadata": {
    "nbpresent": {
     "id": "f8aeb50f-c313-40e2-b8d5-fb2137b1a767"
    }
   },
   "outputs": [],
   "source": [
    "# merge stock_df and adjusted_news_df\n",
    "merged_df = stock_df.merge(adjusted_news_df, on=\"Date\")"
   ]
  },
  {
   "cell_type": "code",
   "execution_count": null,
   "metadata": {
    "nbpresent": {
     "id": "3ea4636e-ca77-480b-b35b-e2c294ba0fc3"
    }
   },
   "outputs": [],
   "source": [
    "merged_df"
   ]
  },
  {
   "cell_type": "code",
   "execution_count": null,
   "metadata": {},
   "outputs": [],
   "source": []
  }
 ],
 "metadata": {
  "kernelspec": {
   "display_name": "Python [conda env:PyData]",
   "language": "python",
   "name": "conda-env-PyData-py"
  },
  "language_info": {
   "codemirror_mode": {
    "name": "ipython",
    "version": 3
   },
   "file_extension": ".py",
   "mimetype": "text/x-python",
   "name": "python",
   "nbconvert_exporter": "python",
   "pygments_lexer": "ipython3",
   "version": "3.6.6"
  }
 },
 "nbformat": 4,
 "nbformat_minor": 2
}
